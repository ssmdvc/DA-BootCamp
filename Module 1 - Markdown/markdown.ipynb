{
 "cells": [
  {
   "cell_type": "markdown",
   "metadata": {},
   "source": [
    "# Markdown and Jupyter Basics "
   ]
  },
  {
   "cell_type": "markdown",
   "metadata": {},
   "source": [
    "## Jupyter Notebook\n",
    "Jupyter Notebook is an open-source web application that allows you to create and share documents that contain live code, equations, visualizations, and narrative text. Notebook & Markdown is widely used for creating documentation and reports."
   ]
  },
  {
   "cell_type": "markdown",
   "metadata": {
    "vscode": {
     "languageId": "plaintext"
    }
   },
   "source": [
    "## Keyboard Shortcuts \n",
    "- **Shift + Enter**: Execute the current cell and move to the next one.\n",
    "- **Ctrl + Enter**: Execute the current cell and remain in the same cell.\n",
    "- **Esc**: Enter command mode, allowing for navigation and execution commands.\n",
    "- **Enter**: Enter edit mode for the currently selected cell.\n",
    "- **A (in command mode)**: Insert a new cell above the current cell.\n",
    "- **B (in command mode)**: Insert a new cell below the current cell.\n",
    "- **M (in command mode)**: Change the current cell to a Markdown cell.\n",
    "- **Y (in command mode)**: Change the current cell to a Code cell."
   ]
  },
  {
   "cell_type": "markdown",
   "metadata": {},
   "source": [
    "## What's a Markdown \n",
    "Markdown is a lightweight markup language with plain-text formatting syntax, designed to be easy to read and write. It was created by John Gruber in 2004 with the goal of allowing people to write using an easy-to-read and easy-to-write plain text format, which could then be converted into structurally valid XHTML (or HTML). Markdown is widely used for creating documentation, writing README files for projects, and even writing emails.   "
   ]
  },
  {
   "cell_type": "markdown",
   "metadata": {},
   "source": [
    "## Basic Markdown Syntax \n",
    "### Headings"
   ]
  },
  {
   "cell_type": "markdown",
   "metadata": {},
   "source": [
    "# Heading 1, Title \n",
    "## Heading 2, Major Headings\n",
    "### Heading 3, Sub-Heading \n",
    "#### Heading 4, 4th Level Subheading \n",
    "##### Heading 5, 5th Level Subheading \n",
    "###### Heading 6, 6th Level Subheading "
   ]
  },
  {
   "cell_type": "markdown",
   "metadata": {},
   "source": [
    "### Plain Text "
   ]
  },
  {
   "cell_type": "markdown",
   "metadata": {},
   "source": [
    "This is a sample of a plain text. You use plain text combined with simple symbols to add formatting, which makes the text both readable in its raw form and easily convertible to other formats."
   ]
  },
  {
   "cell_type": "markdown",
   "metadata": {},
   "source": [
    "### Text Formatting "
   ]
  },
  {
   "cell_type": "markdown",
   "metadata": {},
   "source": [
    "<!-- Bold -->\n",
    "This is a **bold text**.\n",
    "\n",
    "<!-- Italic -->\n",
    "This is *italicized text*. \n",
    "This is _italicized text_. \n",
    "\n",
    "<!-- Strikethrough -->\n",
    "This is ~~invalid text~~.\n",
    "\n",
    "<!-- Bold and Italic -->\n",
    "This is a **_bold text_**.\n",
    "\n",
    "<!-- Superscript and Subscript -->\n",
    "The chemical formula of water is H<sub>2</sub>O. \n",
    "The expression is x<sup>2</sup>."
   ]
  },
  {
   "cell_type": "markdown",
   "metadata": {},
   "source": [
    "### Inline Code, Blackquotes, Horizontal Rule "
   ]
  },
  {
   "cell_type": "markdown",
   "metadata": {},
   "source": [
    "<!-- Inline Code -->\n",
    "`print(\"Hello World\")`\n",
    "\n",
    "\n",
    "<!-- Blackquotes -->\n",
    "> This is a blackqoute\n",
    "\n",
    "\n",
    "<!-- Horizontal Rule -->\n",
    "---\n",
    "***\n",
    "___\n",
    "\n"
   ]
  },
  {
   "cell_type": "markdown",
   "metadata": {
    "vscode": {
     "languageId": "plaintext"
    }
   },
   "source": [
    "## Links and Images "
   ]
  },
  {
   "cell_type": "markdown",
   "metadata": {},
   "source": [
    "<!-- Links -->\n",
    "[Google](https://www.google.com)"
   ]
  },
  {
   "cell_type": "markdown",
   "metadata": {},
   "source": [
    "<!-- Images -->\n",
    "![Logo](https://cdn.icon-icons.com/icons2/2699/PNG/512/jupyter_logo_icon_169453.png)\n",
    "![Data Analytics](Image20240806091322.png)"
   ]
  },
  {
   "cell_type": "markdown",
   "metadata": {},
   "source": [
    "## Markdown List "
   ]
  },
  {
   "cell_type": "markdown",
   "metadata": {},
   "source": [
    "### Unordered List  "
   ]
  },
  {
   "cell_type": "markdown",
   "metadata": {},
   "source": [
    "- Item 1\n",
    "- Item 2\n",
    "- Item 3    "
   ]
  },
  {
   "cell_type": "markdown",
   "metadata": {},
   "source": [
    "### Ordered List "
   ]
  },
  {
   "cell_type": "markdown",
   "metadata": {},
   "source": [
    "1. Item\n",
    "2. Item 2\n",
    "3. Item 3"
   ]
  },
  {
   "cell_type": "markdown",
   "metadata": {},
   "source": [
    "## Tables\n",
    "| Header 1 | Header 2 | Header 3 | \n",
    "| -------------|--------------|--------------|\n",
    "| Row 1, Col 1 | Row 1, Col 2 | Row 1, Col 3 |\n",
    "| Row 2, Col 1 | Row 1, Col 2 | Row 1, Col 3 |\n",
    "| Row 3, Col 1 | Row 1, Col 2 | Row 1, Col 3 |"
   ]
  }
 ],
 "metadata": {
  "language_info": {
   "name": "python"
  }
 },
 "nbformat": 4,
 "nbformat_minor": 2
}
